{
 "cells": [
  {
   "cell_type": "code",
   "execution_count": 2,
   "metadata": {},
   "outputs": [],
   "source": [
    "import requests\n",
    "r = requests.get('https://api.coingecko.com/api/v3/coins/markets?vs_currency=usd&category=ethereum-ecosystem&order=market_cap_desc&per_page=100&page=1&sparkline=false')\n",
    "markets = r.json()\n",
    "market_ids = [m[\"id\"] for m in markets]\n",
    "r = requests.get('https://api.coingecko.com/api/v3/coins/list?include_platform=true')\n",
    "raw_contracts = r.json()\n"
   ]
  },
  {
   "cell_type": "code",
   "execution_count": 4,
   "metadata": {},
   "outputs": [],
   "source": [
    "contracts = [{ \"symbol\": coin[\"symbol\"], \"contract\": coin[\"platforms\"][\"ethereum\"] } for coin in raw_contracts if \"ethereum\" in coin[\"platforms\"] and coin[\"id\"] in market_ids]\n",
    "\n",
    "import csv\n",
    "with open('output.csv', 'w') as csvfile:\n",
    "    writer = csv.writer(csvfile)\n",
    "    writer.writerow([\"name\", \"address\"])\n",
    "    for contract in contracts:\n",
    "        writer.writerow([f\"{contract['symbol'].upper()} Token\", contract[\"contract\"]])"
   ]
  }
 ],
 "metadata": {
  "kernelspec": {
   "display_name": "address-book",
   "language": "python",
   "name": "python3"
  },
  "language_info": {
   "codemirror_mode": {
    "name": "ipython",
    "version": 3
   },
   "file_extension": ".py",
   "mimetype": "text/x-python",
   "name": "python",
   "nbconvert_exporter": "python",
   "pygments_lexer": "ipython3",
   "version": "3.10.8"
  },
  "orig_nbformat": 4,
  "vscode": {
   "interpreter": {
    "hash": "82d955facb3fe41d1a164e3b3aca6eccb3600712a6012acf01411c51d42ca8f5"
   }
  }
 },
 "nbformat": 4,
 "nbformat_minor": 2
}
